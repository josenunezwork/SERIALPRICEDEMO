{
 "cells": [
  {
   "cell_type": "code",
   "execution_count": 39,
   "metadata": {},
   "outputs": [],
   "source": [
    "#import libraries to open csv\n",
    "import csv\n",
    "import pandas as pd"
   ]
  },
  {
   "cell_type": "markdown",
   "metadata": {},
   "source": [
    "## OPEN CSVS WITH PRICES AND SERIAL NUMBERS"
   ]
  },
  {
   "cell_type": "code",
   "execution_count": 40,
   "metadata": {},
   "outputs": [
    {
     "name": "stdout",
     "output_type": "stream",
     "text": [
      "EXAMPLE MAP OF PART PRICES {'AHB': '$10 ', 'CGH': '$50 ', 'HY': '$90 ', 'UYT': '$130 ', 'YYY': '$170 ', 'OIUY': '$210 ', 'JJJJ': '$250 ', 'YUI': '$290 ', 'LLOI': '$330 ', 'PLO': '$370 '}\n"
     ]
    }
   ],
   "source": [
    "#open csv file\n",
    "with open(\"/Users/josenunez/Documents/Book 5.csv\") as csvfile:\n",
    "    #read csv file\n",
    "    readCSV = csv.reader(csvfile, delimiter=',')\n",
    "    dict = {}\n",
    "    #loop through csv file by columns\n",
    "    for i,col in enumerate(readCSV):\n",
    "        dict[i] = col\n",
    "        #if more than 10 empty cells in a row break\n",
    "        if col[0] == \"\":\n",
    "            if i > 10:\n",
    "                break\n",
    "dict = {k: dict[k] for k in range(1,len(dict))}\n",
    "#make map of lists column one as key and column 2 as value\n",
    "dict = {dict[i][0]: dict[i][1] for i in dict}\n",
    "print(\"EXAMPLE MAP OF PART PRICES\" , dict)"
   ]
  },
  {
   "cell_type": "markdown",
   "metadata": {},
   "source": [
    "### FUNCTIONS TO BREAK APART SERIAL NUMBER INTO PARTS AND GET TOTAL COSTS"
   ]
  },
  {
   "cell_type": "code",
   "execution_count": 41,
   "metadata": {},
   "outputs": [
    {
     "name": "stdout",
     "output_type": "stream",
     "text": [
      "EXAMPLE SERIAL NUMBER : AHB-CGH-YYY-UYT\n",
      "SERIAL NUMBER BROKEN DOWN INTO PARTS:  ['AHB', 'CGH', 'YYY', 'UYT']\n",
      "TOTAL COSTS GIVEN PARTS ['AHB', 'CGH', 'YYY', 'UYT']  = $360\n"
     ]
    }
   ],
   "source": [
    "\"\"\"\n",
    "@params: STRING OF ALL PARTS SERIAL NUMBERS:String\n",
    "@returns: LIST OF PARTS SERIAL NUMBERS SEPERATED BY '-' as delimiter:LIST\n",
    "\"\"\"\n",
    "def serialDelimiter(stringSerial):\n",
    "    serial = stringSerial.split(\"-\")\n",
    "    return serial\n",
    "\"\"\"\n",
    "@params: LIST OF PARTS SERIAL NUMBERS:LIST\n",
    "@returns: SUM OF TOTAL COSTS OF PARTS:INT\n",
    "\"\"\"\n",
    "def sum(serial):\n",
    "    sums = 0\n",
    "    #loop through list and convert $ to int to add total costs\n",
    "    for i in serial:\n",
    "        sums+= int(dict[i].replace(\"$\", \"\"))\n",
    "    return sums\n",
    "stringSerial = \"AHB-CGH-YYY-UYT\"\n",
    "print(\"EXAMPLE SERIAL NUMBER :\",stringSerial)\n",
    "print(\"SERIAL NUMBER BROKEN DOWN INTO PARTS: \",serialDelimiter(stringSerial))\n",
    "print(\"TOTAL COSTS GIVEN PARTS\",serialDelimiter(stringSerial),\" = $\"+str(sum(serialDelimiter(stringSerial))))\n"
   ]
  }
 ],
 "metadata": {
  "kernelspec": {
   "display_name": "Python 3",
   "language": "python",
   "name": "python3"
  },
  "language_info": {
   "codemirror_mode": {
    "name": "ipython",
    "version": 3
   },
   "file_extension": ".py",
   "mimetype": "text/x-python",
   "name": "python",
   "nbconvert_exporter": "python",
   "pygments_lexer": "ipython3",
   "version": "3.11.6"
  }
 },
 "nbformat": 4,
 "nbformat_minor": 2
}
