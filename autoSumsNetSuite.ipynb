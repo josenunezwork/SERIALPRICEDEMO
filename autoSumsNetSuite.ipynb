{
 "cells": [
  {
   "cell_type": "code",
   "execution_count": 46,
   "metadata": {},
   "outputs": [],
   "source": [
    "#import libraries to open csv\n",
    "import csv\n",
    "import pandas as pd"
   ]
  },
  {
   "cell_type": "markdown",
   "metadata": {},
   "source": [
    "## OPEN CSVS WITH PRICES AND SERIAL NUMBERS"
   ]
  },
  {
   "cell_type": "code",
   "execution_count": 53,
   "metadata": {},
   "outputs": [
    {
     "name": "stdout",
     "output_type": "stream",
     "text": [
      "['\\ufeffSerial Number', 'Price']\n",
      "['AHB', '$10 ']\n",
      "['CGH', '$50 ']\n",
      "['HY', '$90 ']\n",
      "['UYT', '$130 ']\n",
      "['YYY', '$170 ']\n",
      "['OIUY', '$210 ']\n",
      "['JJJJ', '$250 ']\n",
      "['YUI', '$290 ']\n",
      "['LLOI', '$330 ']\n",
      "['PLO', '$370 ']\n",
      "EXAMPLE MAP OF PART PRICES {'\\ufeffSerial Number': 'Price', 'AHB': '$10 ', 'CGH': '$50 ', 'HY': '$90 ', 'UYT': '$130 ', 'YYY': '$170 ', 'OIUY': '$210 ', 'JJJJ': '$250 ', 'YUI': '$290 ', 'LLOI': '$330 ', 'PLO': '$370 '}\n"
     ]
    }
   ],
   "source": [
    "#open csv file\n",
    "with open(\"/Users/josenunez/Documents/Book 5.csv\") as csvfile:\n",
    "    #read csv file\n",
    "    readCSV = csv.reader(csvfile, delimiter=',')\n",
    "    dict = {}\n",
    "    #loop through csv file\n",
    "    for col in (readCSV):\n",
    "        print(col)\n",
    "        dict[col[0]] = col[1]\n",
    "        #if more than empty cell in a row break\n",
    "        if col[0] == \"\":\n",
    "            break\n",
    "print(\"EXAMPLE MAP OF PART PRICES\" , dict)"
   ]
  },
  {
   "cell_type": "markdown",
   "metadata": {},
   "source": [
    "### FUNCTIONS TO BREAK APART SERIAL NUMBER INTO PARTS AND GET TOTAL COSTS"
   ]
  },
  {
   "cell_type": "code",
   "execution_count": 58,
   "metadata": {},
   "outputs": [
    {
     "name": "stdout",
     "output_type": "stream",
     "text": [
      "$10 \n",
      "EXAMPLE SERIAL NUMBER : AHB-CGH-YYY-UYT\n",
      "SERIAL NUMBER BROKEN DOWN INTO PARTS:  ['AHB', 'CGH', 'YYY', 'UYT']\n",
      "TOTAL COSTS GIVEN PARTS ['AHB', 'CGH', 'YYY', 'UYT']  = $360\n",
      "All part numbers and prices:  {'\\ufeffSerial Number': 'Price', 'AHB': '$10 ', 'CGH': '$50 ', 'HY': '$90 ', 'UYT': '$130 ', 'YYY': '$170 ', 'OIUY': '$210 ', 'JJJJ': '$250 ', 'YUI': '$290 ', 'LLOI': '$330 ', 'PLO': '$370 '}\n",
      "Demonstrating user input\n",
      "Enter a serial number:  AHB-YYY-HY-YUI\n",
      "TOTAL COSTS GIVEN PARTS ['AHB', 'YYY', 'HY', 'YUI']  = $560\n"
     ]
    }
   ],
   "source": [
    "\"\"\"\n",
    "@params: STRING OF ALL PARTS SERIAL NUMBERS:String\n",
    "@returns: LIST OF PARTS SERIAL NUMBERS SEPERATED BY '-' as delimiter:LIST\n",
    "\"\"\"\n",
    "def serialDelimiter(stringSerial):\n",
    "    serial = stringSerial.split(\"-\")\n",
    "    return serial\n",
    "\"\"\"\n",
    "@params: LIST OF PARTS SERIAL NUMBERS:LIST\n",
    "@returns: SUM OF TOTAL COSTS OF PARTS:INT\n",
    "\"\"\"\n",
    "def sum(serial):\n",
    "    sums = 0\n",
    "    #loop through list and convert $ to int to add total costs\n",
    "    for i in serial:\n",
    "        sums+= int(dict[i].replace(\"$\", \"\"))\n",
    "    return sums\n",
    "stringSerial = \"AHB-CGH-YYY-UYT\"\n",
    "print(dict['AHB'])\n",
    "print(\"EXAMPLE SERIAL NUMBER :\",stringSerial)\n",
    "print(\"SERIAL NUMBER BROKEN DOWN INTO PARTS: \",serialDelimiter(stringSerial))\n",
    "print(\"TOTAL COSTS GIVEN PARTS\",serialDelimiter(stringSerial),\" = $\"+str(sum(serialDelimiter(stringSerial))))\n",
    "print(\"All part numbers and prices: \",dict)\n",
    "print(\"Demonstrating user input\")\n",
    "x = input(\"Enter a serial number: \")\n",
    "print(\"Enter a serial number: \",x)\n",
    "print(\"TOTAL COSTS GIVEN PARTS\",serialDelimiter(x),\" = $\"+str(sum(serialDelimiter(x))))\n",
    "\n"
   ]
  }
 ],
 "metadata": {
  "kernelspec": {
   "display_name": "Python 3",
   "language": "python",
   "name": "python3"
  },
  "language_info": {
   "codemirror_mode": {
    "name": "ipython",
    "version": 3
   },
   "file_extension": ".py",
   "mimetype": "text/x-python",
   "name": "python",
   "nbconvert_exporter": "python",
   "pygments_lexer": "ipython3",
   "version": "3.11.6"
  }
 },
 "nbformat": 4,
 "nbformat_minor": 2
}
